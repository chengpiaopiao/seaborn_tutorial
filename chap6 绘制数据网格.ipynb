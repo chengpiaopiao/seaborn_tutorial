{
 "cells": [
  {
   "cell_type": "markdown",
   "metadata": {},
   "source": [
    "# Plotting on data-aware grids"
   ]
  },
  {
   "cell_type": "code",
   "execution_count": null,
   "metadata": {
    "collapsed": true
   },
   "outputs": [],
   "source": [
    "%matplotlib inline\n",
    "import numpy as np\n",
    "import pandas as pd\n",
    "import seaborn as sns\n",
    "from scipy import stats\n",
    "import matplotlib as mpl\n",
    "import matplotlib.pyplot as plt\n",
    "\n",
    "sns.set(style=\"ticks\")\n",
    "np.random.seed(sum(map(ord, \"axis_grids\")))"
   ]
  },
  {
   "cell_type": "markdown",
   "metadata": {},
   "source": [
    "## 用FacetGrid子集数据"
   ]
  },
  {
   "cell_type": "code",
   "execution_count": null,
   "metadata": {},
   "outputs": [],
   "source": [
    "tips = sns.load_dataset(\"tips\")\n",
    "tips.head()"
   ]
  },
  {
   "cell_type": "code",
   "execution_count": null,
   "metadata": {},
   "outputs": [],
   "source": [
    "g = sns.FacetGrid(tips, col=\"time\")"
   ]
  },
  {
   "cell_type": "code",
   "execution_count": null,
   "metadata": {},
   "outputs": [],
   "source": [
    "g = sns.FacetGrid(tips, col=\"time\")\n",
    "g.map(plt.hist, \"tip\");"
   ]
  },
  {
   "cell_type": "code",
   "execution_count": null,
   "metadata": {},
   "outputs": [],
   "source": [
    "g = sns.FacetGrid(tips, col=\"sex\", hue=\"smoker\")\n",
    "g.map(plt.scatter, \"total_bill\", \"tip\", alpha=.7)\n",
    "g.add_legend();"
   ]
  },
  {
   "cell_type": "code",
   "execution_count": null,
   "metadata": {},
   "outputs": [],
   "source": [
    "g = sns.FacetGrid(tips, row=\"smoker\", col=\"time\", margin_titles=True)\n",
    "g.map(sns.regplot, \"size\", \"total_bill\", color=\".3\", fit_reg=False, x_jitter=.1);"
   ]
  },
  {
   "cell_type": "code",
   "execution_count": null,
   "metadata": {},
   "outputs": [],
   "source": [
    "g = sns.FacetGrid(tips, col=\"day\", size=4, aspect=.5)\n",
    "g.map(sns.barplot, \"sex\", \"total_bill\");"
   ]
  },
  {
   "cell_type": "code",
   "execution_count": null,
   "metadata": {},
   "outputs": [],
   "source": [
    "titanic = sns.load_dataset(\"titanic\")\n",
    "titanic = titanic.assign(deck=titanic.deck.astype(object)).sort_values(\"deck\")\n",
    "g = sns.FacetGrid(titanic, col=\"class\", sharex=False,\n",
    "                  gridspec_kws={\"width_ratios\": [5, 3, 3]})\n",
    "g.map(sns.boxplot, \"deck\", \"age\");"
   ]
  },
  {
   "cell_type": "code",
   "execution_count": null,
   "metadata": {},
   "outputs": [],
   "source": [
    "ordered_days = tips.day.value_counts().index\n",
    "g = sns.FacetGrid(tips, row=\"day\", row_order=ordered_days,\n",
    "                  size=1.7, aspect=4,)\n",
    "g.map(sns.distplot, \"total_bill\", hist=False, rug=True);"
   ]
  },
  {
   "cell_type": "code",
   "execution_count": null,
   "metadata": {},
   "outputs": [],
   "source": [
    "pal = dict(Lunch=\"seagreen\", Dinner=\"gray\")\n",
    "g = sns.FacetGrid(tips, hue=\"time\", palette=pal, size=5)\n",
    "g.map(plt.scatter, \"total_bill\", \"tip\", s=50, alpha=.7, \n",
    "      linewidth=.5, edgecolor=\"white\")\n",
    "g.add_legend();"
   ]
  },
  {
   "cell_type": "code",
   "execution_count": null,
   "metadata": {},
   "outputs": [],
   "source": [
    "g = sns.FacetGrid(tips, hue=\"time\", palette=\"Set1\", size=5, \n",
    "                  hue_kws={\"marker\": [\"^\", \"o\"]})\n",
    "g.map(plt.scatter, \"total_bill\", \"tip\", s=50, alpha=.7, \n",
    "      linewidth=.5, edgecolor=\"white\")\n",
    "g.add_legend();"
   ]
  },
  {
   "cell_type": "code",
   "execution_count": null,
   "metadata": {},
   "outputs": [],
   "source": [
    "attend = sns.load_dataset(\"attention\").query(\"subject <= 12\")\n",
    "g = sns.FacetGrid(attend, col=\"subject\", col_wrap=4, size=2, ylim=(0, 10))\n",
    "g.map(sns.pointplot, \"solutions\", \"score\", color=\".3\", ci=None)"
   ]
  },
  {
   "cell_type": "code",
   "execution_count": null,
   "metadata": {},
   "outputs": [],
   "source": [
    "with sns.axes_style(\"white\"):\n",
    "    g = sns.FacetGrid(tips, row=\"sex\", col=\"smoker\", margin_titles=True, size=2.5)\n",
    "g.map(plt.scatter, \"total_bill\", \"tip\", color=\"#334488\", edgecolor=\"red\", lw=.5)\n",
    "g.set_axis_labels(\"Total bill (US Dollars)\", \"Tips\");\n",
    "g.set(xticks=[10, 30, 50], yticks=[2, 6, 10]);\n",
    "g.fig.subplots_adjust(wspace=.02, hspace=.02);"
   ]
  },
  {
   "cell_type": "code",
   "execution_count": null,
   "metadata": {},
   "outputs": [],
   "source": [
    "g = sns.FacetGrid(tips, col=\"smoker\", margin_titles=True, size=4)\n",
    "g.map(plt.scatter, \"total_bill\", \"tip\", color=\"#338844\", edgecolor=\"white\", lw=.5)\n",
    "for ax in g.axes.flat:\n",
    "    ax.plot((0, 50), (0, .2*50), c=\".2\", ls=\"--\")\n",
    "g.set(xlim=(0, 60), ylim=(0, 14));"
   ]
  },
  {
   "cell_type": "markdown",
   "metadata": {},
   "source": [
    "## 将自定义函数应用在网格上"
   ]
  },
  {
   "cell_type": "code",
   "execution_count": null,
   "metadata": {},
   "outputs": [],
   "source": [
    "def quantile_plot(x, **kwargs):\n",
    "    qntls, xr = stats.probplot(x, fit=False)\n",
    "    plt.scatter(xr, qntls, **kwargs)\n",
    "g = sns.FacetGrid(tips, col=\"sex\", size=4)\n",
    "g.map(quantile_plot, \"total_bill\")"
   ]
  },
  {
   "cell_type": "code",
   "execution_count": null,
   "metadata": {},
   "outputs": [],
   "source": [
    "def qqplot(x, y, **kwargs):\n",
    "    _, xr = stats.probplot(x, fit=False)\n",
    "    _, yr = stats.probplot(y, fit=False)\n",
    "    plt.scatter(xr, yr, **kwargs)\n",
    "\n",
    "g = sns.FacetGrid(tips, col=\"smoker\", size=4)\n",
    "g.map(qqplot, \"total_bill\", \"tip\");"
   ]
  },
  {
   "cell_type": "code",
   "execution_count": null,
   "metadata": {},
   "outputs": [],
   "source": [
    "g = sns.FacetGrid(tips, hue=\"time\", col=\"sex\", size=4)\n",
    "g.map(qqplot, \"total_bill\", \"tip\")\n",
    "g.add_legend();"
   ]
  },
  {
   "cell_type": "code",
   "execution_count": null,
   "metadata": {},
   "outputs": [],
   "source": [
    "g = sns.FacetGrid(tips, hue=\"time\", col=\"sex\", size=4,\n",
    "                 hue_kws={\"marker\": [\"s\", \"D\"]})\n",
    "g.map(qqplot, \"total_bill\", \"tip\", s=40, edgecolor=\"w\")\n",
    "g.add_legend();"
   ]
  },
  {
   "cell_type": "code",
   "execution_count": null,
   "metadata": {},
   "outputs": [],
   "source": [
    "def hexbin(x, y, color, **kwargs):\n",
    "    cmap = sns.light_palette(color, as_cmap=True)\n",
    "    plt.hexbin(x, y, gridsize=15, cmap=cmap, **kwargs)\n",
    "\n",
    "with sns.axes_style(\"dark\"):\n",
    "    g = sns.FacetGrid(tips, hue=\"time\", col=\"time\", size=4)\n",
    "g.map(hexbin, \"total_bill\", \"tip\", extent=[0, 50, 0, 10]);"
   ]
  },
  {
   "cell_type": "markdown",
   "metadata": {},
   "source": [
    "## 用PairGrid and pairplot()绘制成对的关系"
   ]
  },
  {
   "cell_type": "code",
   "execution_count": null,
   "metadata": {},
   "outputs": [],
   "source": [
    "iris = sns.load_dataset(\"iris\")\n",
    "g = sns.PairGrid(iris)\n",
    "g.map(plt.scatter);"
   ]
  },
  {
   "cell_type": "code",
   "execution_count": null,
   "metadata": {},
   "outputs": [],
   "source": [
    "g = sns.PairGrid(iris)\n",
    "g.map_diag(plt.hist)\n",
    "g.map_offdiag(plt.scatter);"
   ]
  },
  {
   "cell_type": "code",
   "execution_count": null,
   "metadata": {},
   "outputs": [],
   "source": [
    "g = sns.PairGrid(iris, hue=\"species\")\n",
    "g.map_diag(plt.hist)\n",
    "g.map_offdiag(plt.scatter);\n",
    "g.add_legend()"
   ]
  },
  {
   "cell_type": "code",
   "execution_count": null,
   "metadata": {},
   "outputs": [],
   "source": [
    "g = sns.PairGrid(iris, vars=[\"sepal_length\", \"sepal_width\"], hue=\"species\")\n",
    "g.map(plt.scatter);"
   ]
  },
  {
   "cell_type": "code",
   "execution_count": null,
   "metadata": {},
   "outputs": [],
   "source": [
    "g = sns.PairGrid(iris)\n",
    "g.map_upper(plt.scatter)\n",
    "g.map_lower(sns.kdeplot, cmap=\"Blues_d\")\n",
    "g.map_diag(sns.kdeplot, lw=3, legend=False);"
   ]
  },
  {
   "cell_type": "code",
   "execution_count": null,
   "metadata": {},
   "outputs": [],
   "source": [
    "g = sns.PairGrid(tips, y_vars=[\"tip\"], x_vars=[\"total_bill\", \"size\"], size=4)\n",
    "g.map(sns.regplot, color=\".3\")\n",
    "g.set(ylim=(-1, 11), yticks=[0, 5, 10]);"
   ]
  },
  {
   "cell_type": "code",
   "execution_count": null,
   "metadata": {},
   "outputs": [],
   "source": [
    "g = sns.PairGrid(tips, hue=\"size\", palette=\"GnBu_d\")\n",
    "g.map(plt.scatter, s=10, edgecolor=\"white\")\n",
    "g.add_legend();"
   ]
  },
  {
   "cell_type": "code",
   "execution_count": null,
   "metadata": {},
   "outputs": [],
   "source": [
    "sns.pairplot(iris, hue=\"species\", size=2.5);"
   ]
  },
  {
   "cell_type": "code",
   "execution_count": null,
   "metadata": {},
   "outputs": [],
   "source": [
    "g = sns.pairplot(iris, hue=\"species\", palette=\"Set2\", diag_kind=\"kde\", size=2.5)"
   ]
  },
  {
   "cell_type": "code",
   "execution_count": null,
   "metadata": {
    "collapsed": true
   },
   "outputs": [],
   "source": []
  }
 ],
 "metadata": {
  "kernelspec": {
   "display_name": "Python 3",
   "language": "python",
   "name": "python3"
  },
  "language_info": {
   "codemirror_mode": {
    "name": "ipython",
    "version": 3
   },
   "file_extension": ".py",
   "mimetype": "text/x-python",
   "name": "python",
   "nbconvert_exporter": "python",
   "pygments_lexer": "ipython3",
   "version": "3.6.1"
  }
 },
 "nbformat": 4,
 "nbformat_minor": 2
}
